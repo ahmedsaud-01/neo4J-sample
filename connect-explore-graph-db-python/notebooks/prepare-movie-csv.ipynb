{
 "cells": [
  {
   "cell_type": "code",
   "execution_count": null,
   "metadata": {},
   "outputs": [],
   "source": [
    "import pandas as pd\n",
    "from datetime import date\n",
    "from pyprojroot import here"
   ]
  },
  {
   "cell_type": "code",
   "execution_count": null,
   "metadata": {},
   "outputs": [],
   "source": [
    "def prepare_movie_title_tsv_tocsv(fileName):\n",
    "    df_titles = pd.read_csv(here('data/' + fileName), sep='\\t', index_col='tconst', usecols=[\n",
    "        'tconst', 'titleType', \n",
    "        'originalTitle', 'isAdult', \n",
    "        'startYear', 'runtimeMinutes', \n",
    "        'genres'],\n",
    "        dtype={\n",
    "        'tconst' : 'string',\n",
    "        'titleType' : 'string',\n",
    "        'originalTitle' : 'string',\n",
    "        'isAdult' : 'string',\n",
    "        'startYear':'string',\n",
    "        'runtimeMinutes' : 'string',\n",
    "        'genres' : 'string'\n",
    "\n",
    "    })\n",
    "    df_titles = df_titles[(df_titles.titleType == \"movie\")]\n",
    "    df_titles[\"isAdult\"] = df_titles[\"isAdult\"].replace(\"\\\\N\", \"\")\n",
    "    df_titles[\"genres\"] = df_titles[\"genres\"].replace(\"\\\\N\", \"\")\n",
    "    df_titles[\"runtimeMinutes\"] = df_titles[\"runtimeMinutes\"].replace(\"\\\\N\", \"\")\n",
    "    df_titles[\"runtimeMinutes\"] = pd.to_numeric(df_titles['runtimeMinutes'], errors='coerce')\n",
    "    df_titles[\"startYear\"] = pd.to_datetime(df_titles['startYear'], errors='coerce')\n",
    "\n",
    "    return df_titles"
   ]
  },
  {
   "cell_type": "code",
   "execution_count": null,
   "metadata": {},
   "outputs": [],
   "source": [
    "def save_movie_title_to_csv(movie_title, fileName):\n",
    "    movie_title.to_csv(here(\"data\\\\\" + fileName))"
   ]
  },
  {
   "cell_type": "code",
   "execution_count": null,
   "metadata": {},
   "outputs": [],
   "source": [
    "df_titles = prepare_movie_title_tsv_tocsv(\"title-basics.tsv\")\n",
    "df_titles.head(10)"
   ]
  },
  {
   "cell_type": "code",
   "execution_count": null,
   "metadata": {},
   "outputs": [],
   "source": [
    "df_titles.info()"
   ]
  },
  {
   "cell_type": "code",
   "execution_count": null,
   "metadata": {},
   "outputs": [],
   "source": [
    "save_movie_title_to_csv(df_titles, \"title-movies-filtered.csv\")"
   ]
  },
  {
   "cell_type": "code",
   "execution_count": null,
   "metadata": {},
   "outputs": [],
   "source": [
    "df_titles = pd.read_csv(here('data/title-movies-filtered.csv'), dtype={\n",
    "    'tconst': 'string',\n",
    "    'titleType': 'string',\n",
    "    'primaryTitle': 'string',\n",
    "    'originalTitle': 'string',\n",
    "    'isAdult': 'boolean',\n",
    "    'startYear': 'string',\n",
    "    'endYear': 'string',\n",
    "    'runtimeMinutes': 'float64',\n",
    "    'genres': 'string'\n",
    "})\n"
   ]
  },
  {
   "cell_type": "code",
   "execution_count": null,
   "metadata": {},
   "outputs": [],
   "source": [
    "df_titles.startYear = df_titles.startYear.astype(\"datetime64[ns]\")"
   ]
  },
  {
   "cell_type": "code",
   "execution_count": null,
   "metadata": {},
   "outputs": [],
   "source": [
    "df_titles.info()"
   ]
  },
  {
   "cell_type": "code",
   "execution_count": null,
   "metadata": {},
   "outputs": [],
   "source": [
    "df_titles = df_titles.sort_values(by=\"startYear\", ascending=False)\n",
    "df_titles.head(10)\n",
    "df_titles.info()"
   ]
  },
  {
   "cell_type": "code",
   "execution_count": null,
   "metadata": {},
   "outputs": [],
   "source": [
    "\n",
    "df_titles_2010onwards = df_titles[(df_titles.startYear.dt.date > date(2020, 1, 1)) & (df_titles.startYear.dt.date <= date.today())]\n",
    "df_titles_2010onwards.info()"
   ]
  },
  {
   "cell_type": "code",
   "execution_count": null,
   "metadata": {},
   "outputs": [],
   "source": [
    "df_titles = df_titles[(df_titles.startYear.dt.date > date(2015, 1, 1))]"
   ]
  },
  {
   "cell_type": "code",
   "execution_count": null,
   "metadata": {},
   "outputs": [],
   "source": [
    "df_titles"
   ]
  },
  {
   "cell_type": "code",
   "execution_count": null,
   "metadata": {},
   "outputs": [],
   "source": [
    "df_title_akas=pd.read_csv(here('data/title-akas.tsv'), sep='\\t', dtype={\n",
    "    'titleId': 'string',\n",
    "    'ordering': 'int64',\n",
    "    'title': 'string',\n",
    "    'region': 'string',\n",
    "    'language': 'string',\n",
    "    'types': 'string',\n",
    "    'attributes': 'string',\n",
    "    'isOriginalTitle': 'bool'\n",
    "})"
   ]
  },
  {
   "cell_type": "code",
   "execution_count": null,
   "metadata": {},
   "outputs": [],
   "source": [
    "df_title_akas.head(10)"
   ]
  },
  {
   "cell_type": "code",
   "execution_count": null,
   "metadata": {},
   "outputs": [],
   "source": [
    "df_title_akas.info()"
   ]
  },
  {
   "cell_type": "code",
   "execution_count": null,
   "metadata": {},
   "outputs": [],
   "source": [
    "df_title_akas_movies = df_title_akas[(df_title_akas.titleId.isin(df_titles[\"tconst\"]))]\n",
    "\n",
    "df_title_akas_movies"
   ]
  },
  {
   "cell_type": "code",
   "execution_count": 16,
   "metadata": {},
   "outputs": [
    {
     "data": {
      "text/html": [
       "<div>\n",
       "<style scoped>\n",
       "    .dataframe tbody tr th:only-of-type {\n",
       "        vertical-align: middle;\n",
       "    }\n",
       "\n",
       "    .dataframe tbody tr th {\n",
       "        vertical-align: top;\n",
       "    }\n",
       "\n",
       "    .dataframe thead th {\n",
       "        text-align: right;\n",
       "    }\n",
       "</style>\n",
       "<table border=\"1\" class=\"dataframe\">\n",
       "  <thead>\n",
       "    <tr style=\"text-align: right;\">\n",
       "      <th></th>\n",
       "      <th>titleId</th>\n",
       "      <th>ordering</th>\n",
       "      <th>title</th>\n",
       "      <th>region</th>\n",
       "      <th>language</th>\n",
       "      <th>types</th>\n",
       "      <th>attributes</th>\n",
       "      <th>isOriginalTitle</th>\n",
       "    </tr>\n",
       "  </thead>\n",
       "  <tbody>\n",
       "    <tr>\n",
       "      <th>2323</th>\n",
       "      <td>tt0000574</td>\n",
       "      <td>4</td>\n",
       "      <td>The Story of the Kelly Gang</td>\n",
       "      <td>SG</td>\n",
       "      <td>en</td>\n",
       "      <td>imdbDisplay</td>\n",
       "      <td>\\N</td>\n",
       "      <td>False</td>\n",
       "    </tr>\n",
       "    <tr>\n",
       "      <th>3121</th>\n",
       "      <td>tt0000838</td>\n",
       "      <td>4</td>\n",
       "      <td>The Cultivation of the Cacao Tree</td>\n",
       "      <td>XWW</td>\n",
       "      <td>en</td>\n",
       "      <td>\\N</td>\n",
       "      <td>literal English title</td>\n",
       "      <td>False</td>\n",
       "    </tr>\n",
       "    <tr>\n",
       "      <th>3406</th>\n",
       "      <td>tt0000941</td>\n",
       "      <td>3</td>\n",
       "      <td>Love Crazy</td>\n",
       "      <td>XWW</td>\n",
       "      <td>en</td>\n",
       "      <td>\\N</td>\n",
       "      <td>informal literal title</td>\n",
       "      <td>False</td>\n",
       "    </tr>\n",
       "    <tr>\n",
       "      <th>3736</th>\n",
       "      <td>tt0001051</td>\n",
       "      <td>3</td>\n",
       "      <td>Magical Dream</td>\n",
       "      <td>XWW</td>\n",
       "      <td>en</td>\n",
       "      <td>\\N</td>\n",
       "      <td>literal English title</td>\n",
       "      <td>False</td>\n",
       "    </tr>\n",
       "    <tr>\n",
       "      <th>3938</th>\n",
       "      <td>tt0001122</td>\n",
       "      <td>4</td>\n",
       "      <td>The Red Inn</td>\n",
       "      <td>XWW</td>\n",
       "      <td>en</td>\n",
       "      <td>\\N</td>\n",
       "      <td>\\N</td>\n",
       "      <td>False</td>\n",
       "    </tr>\n",
       "    <tr>\n",
       "      <th>...</th>\n",
       "      <td>...</td>\n",
       "      <td>...</td>\n",
       "      <td>...</td>\n",
       "      <td>...</td>\n",
       "      <td>...</td>\n",
       "      <td>...</td>\n",
       "      <td>...</td>\n",
       "      <td>...</td>\n",
       "    </tr>\n",
       "    <tr>\n",
       "      <th>50193507</th>\n",
       "      <td>tt9916362</td>\n",
       "      <td>13</td>\n",
       "      <td>Coven of Sisters</td>\n",
       "      <td>XWW</td>\n",
       "      <td>en</td>\n",
       "      <td>alternative</td>\n",
       "      <td>\\N</td>\n",
       "      <td>False</td>\n",
       "    </tr>\n",
       "    <tr>\n",
       "      <th>50193523</th>\n",
       "      <td>tt9916362</td>\n",
       "      <td>3</td>\n",
       "      <td>Coven</td>\n",
       "      <td>CA</td>\n",
       "      <td>en</td>\n",
       "      <td>imdbDisplay</td>\n",
       "      <td>\\N</td>\n",
       "      <td>False</td>\n",
       "    </tr>\n",
       "    <tr>\n",
       "      <th>50193524</th>\n",
       "      <td>tt9916362</td>\n",
       "      <td>4</td>\n",
       "      <td>Coven</td>\n",
       "      <td>EG</td>\n",
       "      <td>en</td>\n",
       "      <td>imdbDisplay</td>\n",
       "      <td>\\N</td>\n",
       "      <td>False</td>\n",
       "    </tr>\n",
       "    <tr>\n",
       "      <th>50193636</th>\n",
       "      <td>tt9916428</td>\n",
       "      <td>4</td>\n",
       "      <td>The Secret of China</td>\n",
       "      <td>XWW</td>\n",
       "      <td>en</td>\n",
       "      <td>imdbDisplay</td>\n",
       "      <td>\\N</td>\n",
       "      <td>False</td>\n",
       "    </tr>\n",
       "    <tr>\n",
       "      <th>50194087</th>\n",
       "      <td>tt9916706</td>\n",
       "      <td>2</td>\n",
       "      <td>Dankyavar Danka</td>\n",
       "      <td>IN</td>\n",
       "      <td>en</td>\n",
       "      <td>imdbDisplay</td>\n",
       "      <td>\\N</td>\n",
       "      <td>False</td>\n",
       "    </tr>\n",
       "  </tbody>\n",
       "</table>\n",
       "<p>332341 rows × 8 columns</p>\n",
       "</div>"
      ],
      "text/plain": [
       "            titleId  ordering                              title region  \\\n",
       "2323      tt0000574         4        The Story of the Kelly Gang     SG   \n",
       "3121      tt0000838         4  The Cultivation of the Cacao Tree    XWW   \n",
       "3406      tt0000941         3                         Love Crazy    XWW   \n",
       "3736      tt0001051         3                      Magical Dream    XWW   \n",
       "3938      tt0001122         4                        The Red Inn    XWW   \n",
       "...             ...       ...                                ...    ...   \n",
       "50193507  tt9916362        13                   Coven of Sisters    XWW   \n",
       "50193523  tt9916362         3                              Coven     CA   \n",
       "50193524  tt9916362         4                              Coven     EG   \n",
       "50193636  tt9916428         4                The Secret of China    XWW   \n",
       "50194087  tt9916706         2                    Dankyavar Danka     IN   \n",
       "\n",
       "         language        types              attributes  isOriginalTitle  \n",
       "2323           en  imdbDisplay                      \\N            False  \n",
       "3121           en           \\N   literal English title            False  \n",
       "3406           en           \\N  informal literal title            False  \n",
       "3736           en           \\N   literal English title            False  \n",
       "3938           en           \\N                      \\N            False  \n",
       "...           ...          ...                     ...              ...  \n",
       "50193507       en  alternative                      \\N            False  \n",
       "50193523       en  imdbDisplay                      \\N            False  \n",
       "50193524       en  imdbDisplay                      \\N            False  \n",
       "50193636       en  imdbDisplay                      \\N            False  \n",
       "50194087       en  imdbDisplay                      \\N            False  \n",
       "\n",
       "[332341 rows x 8 columns]"
      ]
     },
     "execution_count": 16,
     "metadata": {},
     "output_type": "execute_result"
    }
   ],
   "source": [
    "df_title_akas_movies_en = df_title_akas_movies[((df_title_akas_movies.language == \"EN\") | (df_title_akas_movies.language == \"en\") | (df_title_akas_movies.language == \"En\"))]\n",
    "df_title_akas_movies_en"
   ]
  },
  {
   "cell_type": "code",
   "execution_count": null,
   "metadata": {},
   "outputs": [],
   "source": [
    "df_title_akas_movies_en_US_GB = df_title_akas_movies_en[\n",
    "    (df_title_akas_movies_en.region == 'US') | \n",
    "    (df_title_akas_movies_en.region == 'GB') \n",
    "    ]\n",
    "\n",
    "df_title_US_GB = df_title_akas_movies_en_US_GB.sort_values(by= \"title\")\n",
    "#df_title_US_GB.head(50)\n",
    "\n",
    "df_title_US_GB['Counts'] = df_title_US_GB.groupby(['titleId'])['title'].transform('count')\n",
    "df_title_US_GB = df_title_US_GB.sort_values(by=['Counts', 'titleId'], ascending=False)\n",
    "\n",
    "#df_title_US_GB.info()\n",
    "#df_title_US_GB.titleId.value_counts()\n",
    "#df_title_orignalTitle.region.unique()\n",
    "\n",
    "#df_title_US_GB[((df_title_US_GB.titleId.value_counts() > 1) = True)]\n",
    "df_title_US_GB.head(50)\n",
    "\n",
    "#df_title_orignalTitle_dup = df_title_orignalTitle[(df_title_orignalTitle.title.duplicated() > 1)]\n",
    "#df_title_orignalTitle_dup"
   ]
  },
  {
   "cell_type": "code",
   "execution_count": 17,
   "metadata": {},
   "outputs": [
    {
     "name": "stdout",
     "output_type": "stream",
     "text": [
      "<class 'pandas.core.frame.DataFrame'>\n",
      "Index: 178238 entries, 604057 to 695308\n",
      "Data columns (total 7 columns):\n",
      " #   Column          Non-Null Count   Dtype         \n",
      "---  ------          --------------   -----         \n",
      " 0   tconst          178238 non-null  string        \n",
      " 1   titleType       178238 non-null  string        \n",
      " 2   originalTitle   178238 non-null  string        \n",
      " 3   isAdult         178238 non-null  boolean       \n",
      " 4   startYear       176221 non-null  datetime64[ns]\n",
      " 5   runtimeMinutes  155660 non-null  float64       \n",
      " 6   genres          168921 non-null  string        \n",
      "dtypes: boolean(1), datetime64[ns](1), float64(1), string(4)\n",
      "memory usage: 9.9 MB\n"
     ]
    }
   ],
   "source": [
    "df_titles_EN = df_titles[(df_titles.tconst.isin(df_title_akas_movies_en[\"titleId\"]))]\n",
    "df_titles_EN.info()"
   ]
  },
  {
   "cell_type": "code",
   "execution_count": 24,
   "metadata": {},
   "outputs": [
    {
     "name": "stdout",
     "output_type": "stream",
     "text": [
      "<class 'pandas.core.frame.DataFrame'>\n",
      "Index: 53784 entries, 485223 to 613697\n",
      "Data columns (total 7 columns):\n",
      " #   Column          Non-Null Count  Dtype         \n",
      "---  ------          --------------  -----         \n",
      " 0   tconst          53784 non-null  string        \n",
      " 1   titleType       53784 non-null  string        \n",
      " 2   originalTitle   53784 non-null  string        \n",
      " 3   isAdult         53784 non-null  boolean       \n",
      " 4   startYear       53784 non-null  datetime64[ns]\n",
      " 5   runtimeMinutes  49379 non-null  float64       \n",
      " 6   genres          52963 non-null  string        \n",
      "dtypes: boolean(1), datetime64[ns](1), float64(1), string(4)\n",
      "memory usage: 3.0 MB\n"
     ]
    }
   ],
   "source": [
    "df_titles_EN_DATEFILTER = df_titles_EN[(df_titles_EN.startYear.dt.date > date(2015, 1, 1)) & (df_titles_EN.startYear.dt.date <= date.today())]\n",
    "df_titles_EN_DATEFILTER.info()"
   ]
  },
  {
   "cell_type": "code",
   "execution_count": 19,
   "metadata": {},
   "outputs": [],
   "source": [
    "title_principals = df_principals =pd.read_csv(here('data/title-principals.tsv'), sep='\\t', dtype={\n",
    "    'tconst': 'string',\n",
    "    'ordering': 'int64',\n",
    "    'nconst': 'string',\n",
    "    'category': 'string',\n",
    "    'job': 'string'\n",
    "})"
   ]
  },
  {
   "cell_type": "code",
   "execution_count": 25,
   "metadata": {},
   "outputs": [
    {
     "name": "stdout",
     "output_type": "stream",
     "text": [
      "<class 'pandas.core.frame.DataFrame'>\n",
      "Index: 870160 entries, 836220 to 88714069\n",
      "Data columns (total 6 columns):\n",
      " #   Column      Non-Null Count   Dtype \n",
      "---  ------      --------------   ----- \n",
      " 0   tconst      870160 non-null  string\n",
      " 1   ordering    870160 non-null  int64 \n",
      " 2   nconst      870160 non-null  string\n",
      " 3   category    870160 non-null  string\n",
      " 4   job         870160 non-null  string\n",
      " 5   characters  870160 non-null  object\n",
      "dtypes: int64(1), object(1), string(4)\n",
      "memory usage: 46.5+ MB\n"
     ]
    }
   ],
   "source": [
    "title_principals_ENMovie= title_principals[(title_principals.tconst.isin(df_titles_EN_DATEFILTER['tconst']))]\n",
    "title_principals_ENMovie.info()"
   ]
  },
  {
   "cell_type": "code",
   "execution_count": 26,
   "metadata": {},
   "outputs": [
    {
     "data": {
      "text/plain": [
       "<StringArray>\n",
       "[              'actor',             'actress',            'director',\n",
       "              'writer',            'producer',            'composer',\n",
       "     'cinematographer',              'editor', 'production_designer',\n",
       "    'casting_director',                'self',     'archive_footage',\n",
       "       'archive_sound']\n",
       "Length: 13, dtype: string"
      ]
     },
     "execution_count": 26,
     "metadata": {},
     "output_type": "execute_result"
    }
   ],
   "source": [
    "title_principals_ENMovie.category.unique()"
   ]
  },
  {
   "cell_type": "code",
   "execution_count": 28,
   "metadata": {},
   "outputs": [
    {
     "name": "stdout",
     "output_type": "stream",
     "text": [
      "<class 'pandas.core.frame.DataFrame'>\n",
      "Index: 632967 entries, 836220 to 88714069\n",
      "Data columns (total 6 columns):\n",
      " #   Column      Non-Null Count   Dtype \n",
      "---  ------      --------------   ----- \n",
      " 0   tconst      632967 non-null  string\n",
      " 1   ordering    632967 non-null  int64 \n",
      " 2   nconst      632967 non-null  string\n",
      " 3   category    632967 non-null  string\n",
      " 4   job         632967 non-null  string\n",
      " 5   characters  632967 non-null  object\n",
      "dtypes: int64(1), object(1), string(4)\n",
      "memory usage: 33.8+ MB\n"
     ]
    }
   ],
   "source": [
    "title_principals_ENMovie_CAT= title_principals_ENMovie[(title_principals_ENMovie.category.isin(['actor', 'actress', 'director', 'writer', 'producer']))]\n",
    "title_principals_ENMovie_CAT.info()"
   ]
  },
  {
   "cell_type": "code",
   "execution_count": null,
   "metadata": {},
   "outputs": [],
   "source": []
  }
 ],
 "metadata": {
  "kernelspec": {
   "display_name": "abc",
   "language": "python",
   "name": "python3"
  },
  "language_info": {
   "codemirror_mode": {
    "name": "ipython",
    "version": 3
   },
   "file_extension": ".py",
   "mimetype": "text/x-python",
   "name": "python",
   "nbconvert_exporter": "python",
   "pygments_lexer": "ipython3",
   "version": "3.11.0"
  }
 },
 "nbformat": 4,
 "nbformat_minor": 2
}
