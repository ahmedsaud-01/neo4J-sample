{
 "cells": [
  {
   "cell_type": "code",
   "execution_count": 3,
   "metadata": {},
   "outputs": [],
   "source": [
    "import os\n",
    "from neo4j import GraphDatabase\n",
    "from neo4j import exceptions\n",
    "from pyprojroot import here\n",
    "from dotenv import load_dotenv"
   ]
  },
  {
   "cell_type": "code",
   "execution_count": 8,
   "metadata": {},
   "outputs": [],
   "source": [
    "# import environment variables\n",
    "load_dotenv()\n",
    "URI = os.environ[\"NEO4J_URI\"]\n",
    "AUTH = (os.environ[\"NEO4J_USERNAME\"], os.environ[\"NEO4J_PASSWORD\"])"
   ]
  },
  {
   "cell_type": "code",
   "execution_count": 9,
   "metadata": {},
   "outputs": [],
   "source": [
    "with GraphDatabase.driver(uri=URI, auth=AUTH) as driver:\n",
    "    with driver.session(database=\"neo4j\") as session:\n",
    "        try:\n",
    "            driver.verify_connectivity()\n",
    "        except exceptions.ServiceUnavailable:\n",
    "            raise ValueError(\n",
    "                \"URL is incorrect. Could not connect to Neo4j database. Please try again.\"\n",
    "            )\n",
    "        except exceptions.AuthError:\n",
    "            raise ValueError(\n",
    "                \"the username and password are incorrect. Could not connect to Neo4j database. Please try again.\"\n",
    "            )"
   ]
  }
 ],
 "metadata": {
  "kernelspec": {
   "display_name": "abc",
   "language": "python",
   "name": "python3"
  },
  "language_info": {
   "codemirror_mode": {
    "name": "ipython",
    "version": 3
   },
   "file_extension": ".py",
   "mimetype": "text/x-python",
   "name": "python",
   "nbconvert_exporter": "python",
   "pygments_lexer": "ipython3",
   "version": "3.11.0"
  }
 },
 "nbformat": 4,
 "nbformat_minor": 2
}
